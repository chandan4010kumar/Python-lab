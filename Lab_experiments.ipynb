{
  "nbformat": 4,
  "nbformat_minor": 0,
  "metadata": {
    "colab": {
      "provenance": []
    },
    "kernelspec": {
      "name": "python3",
      "display_name": "Python 3"
    },
    "language_info": {
      "name": "python"
    }
  },
  "cells": [
    {
      "cell_type": "markdown",
      "source": [
        "LAB-1\n"
      ],
      "metadata": {
        "id": "qTWna58VbsgU"
      }
    },
    {
      "cell_type": "code",
      "source": [
        "1-You need to implement swapping of two numbers without third variable?"
      ],
      "metadata": {
        "id": "eTZyWqe8bpUm"
      },
      "execution_count": null,
      "outputs": []
    },
    {
      "cell_type": "code",
      "source": [
        "a=5\n",
        "b=8\n",
        "print(\"before swapping:a=\",a,\"b=\",b)\n",
        "a,b=b,a\n",
        "print(\"after swapping:a=\",a,\"b=\",b)"
      ],
      "metadata": {
        "id": "0BsRR6bScLQS"
      },
      "execution_count": null,
      "outputs": []
    },
    {
      "cell_type": "markdown",
      "source": [
        "2- create a programm to compute student's mark,average and weight classification\n",
        ">=90 A grade\n",
        "\n",
        "80-89 B grade\n",
        "\n",
        "70-79 C grade\n",
        "\n",
        "60-69 D grade\n",
        "\n",
        "<=60 F grade"
      ],
      "metadata": {
        "id": "xNWIUQaDdowd"
      }
    },
    {
      "cell_type": "code",
      "source": [
        "marks1=65\n",
        "marks2=87\n",
        "marks3= 39\n",
        "marks4=98\n",
        "marks5=78\n",
        "average=(marks1+marks2+marks3+marks4+marks5)/5\n",
        "print(\"average of student is :\",average)\n",
        "if average>=90:\n",
        "  print(\"A grade\")\n",
        "elif 80<=average<=89:\n",
        "  print(\"B grade\")\n",
        "elif 70<=average<=79:\n",
        "  print(\"C grade\")\n",
        "elif 60<=average<=69:\n",
        "  print(\"D grade\")\n",
        "else:\n",
        "  print(\"F grade\")"
      ],
      "metadata": {
        "id": "9CS71fM4ehg7"
      },
      "execution_count": null,
      "outputs": []
    },
    {
      "cell_type": "markdown",
      "source": [
        "3- write a programm to calculate the area and perrimeter of a rectangle?\n"
      ],
      "metadata": {
        "id": "01_Egni7f3oS"
      }
    },
    {
      "cell_type": "code",
      "source": [
        "length=7\n",
        "breadth=8\n",
        "print(\"perimeter of rectangle is:\",2*(length+breadth))\n",
        "print(\"area of rectangle is:\",length*breadth)"
      ],
      "metadata": {
        "id": "tL8fqLCigF9e"
      },
      "execution_count": null,
      "outputs": []
    },
    {
      "cell_type": "markdown",
      "source": [
        "4-input two complex number and display sum,diff and product?"
      ],
      "metadata": {
        "id": "cf_LIyq0hDPz"
      }
    },
    {
      "cell_type": "code",
      "source": [
        "comp1=3+2j\n",
        "comp2=5+2j\n",
        "print(\"sum of complex number is:\",comp1+comp2)\n",
        "print(\"diff of complex number is:\",comp1-comp2)\n",
        "print(\"product of complex number is:\",comp1*comp2)"
      ],
      "metadata": {
        "id": "p_aE4AF5hQq7"
      },
      "execution_count": null,
      "outputs": []
    },
    {
      "cell_type": "markdown",
      "source": [
        "5-you need to convert temperature from celsius to fahrenheit and vice versa?"
      ],
      "metadata": {
        "id": "tmYuWRHwh7Xk"
      }
    },
    {
      "cell_type": "code",
      "source": [
        "cel_temp=36.666\n",
        "fah_temp=98.6000\n",
        "print(\"temperature in fahrenheit\",((9/5)*cel_temp +32))\n",
        "print(\"temperature in celsius\",(fah_temp-32)*(5/9))"
      ],
      "metadata": {
        "id": "QPoEMTSviM8n"
      },
      "execution_count": null,
      "outputs": []
    },
    {
      "cell_type": "markdown",
      "source": [
        "6- design a simple calculator?"
      ],
      "metadata": {
        "id": "lBK8_9_5jkfE"
      }
    },
    {
      "cell_type": "code",
      "source": [
        "a=int(input(\"enter number 1:\"))\n",
        "b=int(input(\"enter number 2:\"))\n",
        "ope=(input(\"enter operation(+,-,*,/)\"))\n",
        "if ope==\"+\":\n",
        "  print(a+b)\n",
        "elif ope==\"-\":\n",
        "  print(a-b)\n",
        "elif ope==\"*\":\n",
        "  print(a*b)\n",
        "elif ope==\"/\":\n",
        "  print(a/b)\n",
        "\n"
      ],
      "metadata": {
        "id": "YQHuf9qvk0Hg"
      },
      "execution_count": null,
      "outputs": []
    },
    {
      "cell_type": "markdown",
      "source": [
        "7- calculate  factorial of a number?"
      ],
      "metadata": {
        "id": "XeBJZc3lZGkn"
      }
    },
    {
      "cell_type": "code",
      "source": [
        "number=int(input(\"enter the number:\"))\n",
        "fact=1\n",
        "for i in range(1,number+1):\n",
        "    fact=fact*i\n",
        "print(\"factorial of\",number,\"is\",fact)\n"
      ],
      "metadata": {
        "colab": {
          "base_uri": "https://localhost:8080/"
        },
        "id": "xioQulixao0Y",
        "outputId": "6c966d11-eb2f-4d38-90c6-b2148ad48b52"
      },
      "execution_count": 1,
      "outputs": [
        {
          "output_type": "stream",
          "name": "stdout",
          "text": [
            "enter the number:4\n",
            "factorial of 4 is 24\n"
          ]
        }
      ]
    },
    {
      "cell_type": "markdown",
      "source": [
        "8-give febonacci series upto given number?"
      ],
      "metadata": {
        "id": "j2_71VX8avSQ"
      }
    },
    {
      "cell_type": "code",
      "source": [
        "num=int(input(\"enter the number:\"))\n",
        "a=0\n",
        "b=1\n",
        "print(a)\n",
        "print(b)\n",
        "for i in range(2,num):\n",
        "  c=a+b\n",
        "  a=b\n",
        "  b=c\n",
        "  print(c)\n"
      ],
      "metadata": {
        "colab": {
          "base_uri": "https://localhost:8080/"
        },
        "id": "lpHGi37-a_ys",
        "outputId": "5b0d2b71-c35b-49b9-a8d0-223455f2d8b6"
      },
      "execution_count": 2,
      "outputs": [
        {
          "output_type": "stream",
          "name": "stdout",
          "text": [
            "enter the number:5\n",
            "0\n",
            "1\n",
            "1\n",
            "2\n",
            "3\n"
          ]
        }
      ]
    },
    {
      "cell_type": "markdown",
      "source": [
        "9-find second largest number in a list?"
      ],
      "metadata": {
        "id": "shWdQWI8bQx9"
      }
    },
    {
      "cell_type": "code",
      "source": [
        "list1=[23,45,67,12,42,49]\n",
        "largest=max(list1)\n",
        "list1.remove(largest)\n",
        "second_largest=max(list1)\n",
        "print(\"second largest number is :\",second_largest)"
      ],
      "metadata": {
        "colab": {
          "base_uri": "https://localhost:8080/"
        },
        "id": "8xM2_LoHbaDS",
        "outputId": "1ece7071-80ed-4c24-f248-9164d6dd0773"
      },
      "execution_count": 3,
      "outputs": [
        {
          "output_type": "stream",
          "name": "stdout",
          "text": [
            "second largest number is : 49\n"
          ]
        }
      ]
    },
    {
      "cell_type": "markdown",
      "source": [
        "10- count number of word using split function?"
      ],
      "metadata": {
        "id": "Ki9wIf1Lbjr7"
      }
    },
    {
      "cell_type": "code",
      "source": [
        "sentence=\"my name is chandan and i am from  madhubani bihar.\"\n",
        "words=sentence.split()\n",
        "print(words)\n",
        "print(len(words))"
      ],
      "metadata": {
        "colab": {
          "base_uri": "https://localhost:8080/"
        },
        "id": "mPQd9gUcbp0b",
        "outputId": "50ff806a-c2c3-4edc-b9a5-d8fc1a8b312c"
      },
      "execution_count": 4,
      "outputs": [
        {
          "output_type": "stream",
          "name": "stdout",
          "text": [
            "['my', 'name', 'is', 'chandan', 'and', 'i', 'am', 'from', 'madhubani', 'bihar.']\n",
            "10\n"
          ]
        }
      ]
    },
    {
      "cell_type": "markdown",
      "source": [
        "11- In an AC circuit the total impedence(Z)  of a series RLC circuits is :-\n",
        " i- compute the impedence as  a complex number.\n",
        " ii- returns its magnitude and phase angle in degree.\n",
        " Z=R+i((w*l) -1/(w*c))\n",
        "  R=100,L=0.5,c=100 e^-6,f=50"
      ],
      "metadata": {
        "id": "Xijo-5VPqB6R"
      }
    },
    {
      "cell_type": "code",
      "source": [
        "import math\n",
        "import cmath\n",
        "r=100\n",
        "l=0.5\n",
        "c=100*( pow(10,-6))\n",
        "f=50\n",
        "\n",
        "w=2*math.pi*f\n",
        "z=complex(r,(w*l)-(1/(w*c)))\n",
        "print(w)\n",
        "print(z)"
      ],
      "metadata": {
        "colab": {
          "base_uri": "https://localhost:8080/"
        },
        "id": "buUzvwVMm-Zk",
        "outputId": "78b5eee7-3bb3-43b5-f99d-4528f04b3ca4"
      },
      "execution_count": null,
      "outputs": [
        {
          "output_type": "stream",
          "name": "stdout",
          "text": [
            "314.1592653589793\n",
            "(100+125.24864406111058j)\n"
          ]
        }
      ]
    }
  ]
}